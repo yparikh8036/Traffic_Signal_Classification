{
 "cells": [
  {
   "cell_type": "code",
   "execution_count": 53,
   "id": "df428488",
   "metadata": {},
   "outputs": [],
   "source": [
    "import tkinter as tkn\n",
    "from tkinter import filedialog as fd\n",
    "from tkinter import *\n",
    "from PIL import ImageTk, Image\n",
    "import numpy as np\n",
    "\n",
    "# Load the trained model to classify traffic signals\n",
    "from keras.models import load_model\n",
    "model = load_model('model.h5')"
   ]
  },
  {
   "cell_type": "code",
   "execution_count": 54,
   "id": "b320d93e",
   "metadata": {},
   "outputs": [],
   "source": [
    "# Dictionary to label all traffic signal classes.\n",
    "\n",
    "noc = { 1:'Speed limit (20km/h)',\n",
    "            2:'Speed limit (30km/h)', \n",
    "            3:'Speed limit (50km/h)', \n",
    "            4:'Speed limit (60km/h)', \n",
    "            5:'Speed limit (70km/h)', \n",
    "            6:'Speed limit (80km/h)', \n",
    "            7:'End of speed limit (80km/h)', \n",
    "            8:'Speed limit (100km/h)', \n",
    "            9:'Speed limit (120km/h)', \n",
    "            10:'No passing', \n",
    "            11:'No passing veh over 3.5 tons', \n",
    "            12:'Right-of-way at intersection', \n",
    "            13:'Priority road', \n",
    "            14:'Yield', \n",
    "            15:'Stop', \n",
    "            16:'No vehicles', \n",
    "            17:'Veh > 3.5 tons prohibited', \n",
    "            18:'No entry', \n",
    "            19:'General caution', \n",
    "            20:'Dangerous curve left', \n",
    "            21:'Dangerous curve right', \n",
    "            22:'Double curve', \n",
    "            23:'Bumpy road', \n",
    "            24:'Slippery road', \n",
    "            25:'Road narrows on the right', \n",
    "            26:'Road work', \n",
    "            27:'Traffic signals', \n",
    "            28:'Pedestrians', \n",
    "            29:'Children crossing', \n",
    "            30:'Bicycles crossing', \n",
    "            31:'Beware of ice/snow',\n",
    "            32:'Wild animals crossing', \n",
    "            33:'End speed + passing limits', \n",
    "            34:'Turn right ahead', \n",
    "            35:'Turn left ahead', \n",
    "            36:'Ahead only', \n",
    "            37:'Go straight or right', \n",
    "            38:'Go straight or left', \n",
    "            39:'Keep right', \n",
    "            40:'Keep left', \n",
    "            41:'Roundabout mandatory', \n",
    "            42:'End of no passing', \n",
    "            43:'End no passing veh > 3.5 tons' }\n",
    "\n",
    "# Initialize the GUI\n",
    "top=tkn.Tk()\n",
    "top.geometry('600x600')\n",
    "top.title('Traffic Sign Recognition')\n",
    "top.configure(background='#CDCDCD')\n",
    "label=Label(top,background='#CDCDCD', font=('arial',20,'bold'))\n",
    "sign_image = Label(top)"
   ]
  },
  {
   "cell_type": "code",
   "execution_count": 55,
   "id": "1aee890f",
   "metadata": {},
   "outputs": [],
   "source": [
    "def open_image(file_path):\n",
    "    image = Image.open(file_path) # Loading an image\n",
    "    return image.resize((50,50)) # Resizing an image\n",
    "\n",
    "def detect_image(file_path):\n",
    "    image = open_image(file_path)\n",
    "    image = np.expand_dims(image, axis=0)\n",
    "    image = np.array(image)\n",
    "    predict_x=model.predict([image])[0] \n",
    "    classes_x=np.argmax(predict_x,axis=0)\n",
    "    sign = noc[classes_x+1]\n",
    "    answer = 'Detected image is ' + sign\n",
    "    print(answer)\n",
    "    label.configure(foreground='#011638', text=answer) \n",
    "    \n",
    "def show_detect_image_button(file_path):\n",
    "    detect_image_b=Button(top,text=\"Detect Image\", command=lambda: detect_image(file_path), padx=10, pady=5)\n",
    "    detect_image_b.configure(background='#364156', foreground='white', font=('arial', 10, 'bold'))\n",
    "    detect_image_b.place(relx=0.79,rely=0.46)\n",
    "    \n",
    "def upload_file():\n",
    "    try:\n",
    "        file_path=fd.askopenfilename()\n",
    "        u_file=Image.open(file_path)\n",
    "        u_file.thumbnail(((top.winfo_width()/2.25),(top.winfo_height()/2.25)))\n",
    "        im=ImageTk.PhotoImage(u_file)\n",
    "        sign_image.configure(image=im)\n",
    "        sign_image.image=im\n",
    "        label.configure(text='')\n",
    "        show_detect_image_button(file_path)\n",
    "    except:\n",
    "        pass"
   ]
  },
  {
   "cell_type": "code",
   "execution_count": 56,
   "id": "46ab4cdd",
   "metadata": {},
   "outputs": [
    {
     "name": "stdout",
     "output_type": "stream",
     "text": [
      "Detected image is Keep right\n",
      "Detected image is General caution\n"
     ]
    }
   ],
   "source": [
    "upload=Button(top,text=\"Upload file\",command=upload_file,padx=10,pady=5)\n",
    "upload.configure(background='#364156', foreground='white',font=('arial',10,'bold'))\n",
    "upload.pack(side=BOTTOM,pady=50)\n",
    "sign_image.pack(side=BOTTOM,expand=True)\n",
    "label.pack(side=BOTTOM,expand=True)\n",
    "heading = Label(top, text=\"Traffic Sign Recognition\",pady=20, font=('arial',20,'bold'))\n",
    "heading.configure(background='#CDCDCD',foreground='#364156')\n",
    "heading.pack()\n",
    "top.mainloop()"
   ]
  }
 ],
 "metadata": {
  "kernelspec": {
   "display_name": "Python 3",
   "language": "python",
   "name": "python3"
  },
  "language_info": {
   "codemirror_mode": {
    "name": "ipython",
    "version": 3
   },
   "file_extension": ".py",
   "mimetype": "text/x-python",
   "name": "python",
   "nbconvert_exporter": "python",
   "pygments_lexer": "ipython3",
   "version": "3.8.8"
  }
 },
 "nbformat": 4,
 "nbformat_minor": 5
}
