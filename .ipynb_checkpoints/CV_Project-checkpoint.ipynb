{
 "cells": [
  {
   "cell_type": "code",
   "execution_count": 345,
   "id": "87e5df37-be8c-49ac-a8f4-b5710b5ddb74",
   "metadata": {},
   "outputs": [
    {
     "name": "stdout",
     "output_type": "stream",
     "text": [
      "2.7.0\n"
     ]
    }
   ],
   "source": [
    "#!pip install opencv-python\n",
    "#!pip3 install --user --upgrade tensorflow\n",
    "#!pip install tensorflow keras sklearn matplotlib pandas pil\n",
    "import tensorflow\n",
    "print(tensorflow.__version__)"
   ]
  },
  {
   "cell_type": "code",
   "execution_count": 346,
   "id": "e42ace8e-04a6-44f0-bec0-9625e7015cbe",
   "metadata": {},
   "outputs": [],
   "source": [
    "import numpy as np \n",
    "import pandas as pd \n",
    "import matplotlib.pyplot as plot\n",
    "import cv2\n",
    "from PIL import Image as plt\n",
    "import os\n",
    "from tensorflow import keras\n",
    "from tensorflow.keras import layers\n",
    "from tensorflow.keras.utils import to_categorical\n",
    "from keras.models import load_model\n",
    "from sklearn.model_selection import train_test_split\n",
    "from sklearn.metrics import accuracy_score, confusion_matrix"
   ]
  },
  {
   "cell_type": "code",
   "execution_count": 347,
   "id": "8504ec0e-abe5-4847-9339-da4dce0e710e",
   "metadata": {},
   "outputs": [],
   "source": [
    "data = []\n",
    "labels = []\n",
    "X_train = X_test = y_train = y_test = []\n",
    "num_Of_classes = 43\n",
    "epochs = 5\n",
    "base_path = os.getcwd()\n",
    "model = Sequential()"
   ]
  },
  {
   "cell_type": "code",
   "execution_count": 348,
   "id": "a2991aa5",
   "metadata": {},
   "outputs": [],
   "source": [
    "def open_image(path, img):\n",
    "    image = plt.open(path + '\\\\'+ img) # Loading an image\n",
    "    return image.resize((50,50)) # Resizing an image"
   ]
  },
  {
   "cell_type": "code",
   "execution_count": 349,
   "id": "14bca42b",
   "metadata": {},
   "outputs": [],
   "source": [
    "def load_dataset():\n",
    "    global data, labels, X_train, X_test, y_train, y_test, num_Of_classes, base_path\n",
    "    \n",
    "    # Loading the images and their labels from training dataset\n",
    "    for i in range(num_Of_classes):\n",
    "        img_path = os.path.join(base_path, 'train', str(i))\n",
    "        train_images = os.listdir(img_path)\n",
    "        for img in train_images:\n",
    "            try:\n",
    "                image = open_image(img_path, img)\n",
    "                image = np.array(image) # Adding images into numpy array\n",
    "                data.append(image)\n",
    "                labels.append(i)\n",
    "            except:\n",
    "                print(\"Exception occured while loading an image\") \n",
    "                \n",
    "    # Converting lists of data and labels into numpy arrays\n",
    "    data = np.array(data)\n",
    "    labels = np.array(labels)\n",
    "\n",
    "    print('--------------- Data Shape -----------------')\n",
    "    print(data.shape, labels.shape)\n",
    "\n",
    "    #Splitting the data into training and testing dataset\n",
    "    X_train, X_test, y_train, y_test = train_test_split(data, labels, test_size=0.2, random_state=42)\n",
    "    print(X_train.shape, X_test.shape, y_train.shape, y_test.shape)\n",
    "    \n",
    "    # Converting the labels into one proper vector\n",
    "    y_train = to_categorical(y_train, 43)\n",
    "    y_test = to_categorical(y_test, 43)"
   ]
  },
  {
   "cell_type": "code",
   "execution_count": 350,
   "id": "e8fb303e",
   "metadata": {},
   "outputs": [],
   "source": [
    "def build_model():\n",
    "    global model, X_train\n",
    "    \n",
    "    model = Sequential([\n",
    "        layers.Conv2D(filters=32, kernel_size=(5,5), activation='relu', input_shape=X_train.shape[1:]),\n",
    "        layers.Conv2D(filters=32, kernel_size=(5,5), activation='relu'),\n",
    "        layers.MaxPool2D(pool_size=(2, 2)),\n",
    "        layers.Dropout(rate=0.25),\n",
    "        layers.Conv2D(filters=64, kernel_size=(3, 3), activation='relu'),\n",
    "        layers.Conv2D(filters=64, kernel_size=(3, 3), activation='relu'),\n",
    "        layers.MaxPool2D(pool_size=(2, 2)),\n",
    "        layers.Dropout(rate=0.25),\n",
    "        layers.Flatten(),\n",
    "        layers.Dense(256, activation='relu'),\n",
    "        layers.Dropout(rate=0.5),\n",
    "        layers.Dense(43, activation='softmax')\n",
    "    ])"
   ]
  },
  {
   "cell_type": "code",
   "execution_count": 351,
   "id": "2988e24d",
   "metadata": {},
   "outputs": [],
   "source": [
    "def compile_model():\n",
    "    global model, X_train, X_test, y_train, y_test, epochs\n",
    "    \n",
    "    model.compile(loss='categorical_crossentropy', optimizer='adam', metrics=['accuracy'])\n",
    "    history = model.fit(X_train, y_train, batch_size=64, epochs=epochs, validation_data=(X_test, y_test))\n",
    "    model.save(\"model.h5\")\n",
    "    return history"
   ]
  },
  {
   "cell_type": "code",
   "execution_count": 352,
   "id": "924da162",
   "metadata": {},
   "outputs": [],
   "source": [
    "def test_model():\n",
    "    global labels, X_train, X_test, y_train, y_test, num_Of_classes, base_path\n",
    "    \n",
    "    # Testing accuracy on test dataset\n",
    "    y_test = pd.read_csv('Test.csv')\n",
    "    labels = y_test[\"ClassId\"].values\n",
    "    imgs = y_test[\"Path\"].values\n",
    "\n",
    "    data=[]\n",
    "    for img in imgs:\n",
    "        image = open_image(base_path, img)\n",
    "        data.append(np.array(image))\n",
    "\n",
    "    X_test=np.array(data)\n",
    "\n",
    "    predict_x=model.predict(X_test) \n",
    "    pred=np.argmax(predict_x,axis=1)\n",
    "\n",
    "    # Confusion matrix and Accuracy of model with the test data\n",
    "    print(confusion_matrix(labels,pred))\n",
    "    print(accuracy_score(labels, pred))"
   ]
  },
  {
   "cell_type": "code",
   "execution_count": 353,
   "id": "3be3ea87",
   "metadata": {
    "scrolled": false
   },
   "outputs": [
    {
     "name": "stdout",
     "output_type": "stream",
     "text": [
      "--------------- Data Shape -----------------\n",
      "(39209, 50, 50, 3) (39209,)\n",
      "(31367, 50, 50, 3) (7842, 50, 50, 3) (31367,) (7842,)\n"
     ]
    }
   ],
   "source": [
    "load_dataset() #Loading Dataset"
   ]
  },
  {
   "cell_type": "code",
   "execution_count": 354,
   "id": "e248fda9",
   "metadata": {},
   "outputs": [],
   "source": [
    "build_model() # Building the model"
   ]
  },
  {
   "cell_type": "code",
   "execution_count": 355,
   "id": "82d6f9ac",
   "metadata": {},
   "outputs": [
    {
     "name": "stdout",
     "output_type": "stream",
     "text": [
      "Epoch 1/5\n",
      "491/491 [==============================] - 141s 287ms/step - loss: 1.9237 - accuracy: 0.5794 - val_loss: 0.3343 - val_accuracy: 0.9237\n",
      "Epoch 2/5\n",
      "491/491 [==============================] - 149s 303ms/step - loss: 0.5001 - accuracy: 0.8575 - val_loss: 0.1816 - val_accuracy: 0.9609\n",
      "Epoch 3/5\n",
      "491/491 [==============================] - 160s 327ms/step - loss: 0.3253 - accuracy: 0.9069 - val_loss: 0.0952 - val_accuracy: 0.9774\n",
      "Epoch 4/5\n",
      "491/491 [==============================] - 136s 277ms/step - loss: 0.2568 - accuracy: 0.9254 - val_loss: 0.0577 - val_accuracy: 0.9874\n",
      "Epoch 5/5\n",
      "491/491 [==============================] - 145s 295ms/step - loss: 0.2109 - accuracy: 0.9384 - val_loss: 0.0625 - val_accuracy: 0.9867\n"
     ]
    }
   ],
   "source": [
    "history = compile_model()  # Compilation of the model"
   ]
  },
  {
   "cell_type": "code",
   "execution_count": 356,
   "id": "af67e583",
   "metadata": {},
   "outputs": [
    {
     "data": {
      "image/png": "[encoded data removed]",
      "text/plain": [
       "<Figure size 432x288 with 1 Axes>"
      ]
     },
     "metadata": {
      "needs_background": "light"
     },
     "output_type": "display_data"
    },
    {
     "data": {
      "image/png": "[encoded data removed]",
      "text/plain": [
       "<Figure size 432x288 with 1 Axes>"
      ]
     },
     "metadata": {
      "needs_background": "light"
     },
     "output_type": "display_data"
    }
   ],
   "source": [
    "# Plotting graphs for accuracy \n",
    "plot.figure(0)\n",
    "plot.plot(history.history['accuracy'], label='training accuracy')\n",
    "plot.plot(history.history['val_accuracy'], label='val accuracy')\n",
    "plot.title('Accuracy Graph')\n",
    "plot.xlabel('epochs')\n",
    "plot.ylabel('accuracy')\n",
    "plot.legend()\n",
    "plot.show()\n",
    "plot.figure(1)\n",
    "plot.plot(history.history['loss'], label='training loss')\n",
    "plot.plot(history.history['val_loss'], label='val loss')\n",
    "plot.title('Loss Graph')\n",
    "plot.xlabel('epochs')\n",
    "plot.ylabel('loss')\n",
    "plot.legend()\n",
    "plot.show()"
   ]
  },
  {
   "cell_type": "code",
   "execution_count": 357,
   "id": "a1cc8840",
   "metadata": {},
   "outputs": [
    {
     "name": "stdout",
     "output_type": "stream",
     "text": [
      "[[ 59   0   0 ...   0   0   0]\n",
      " [  0 708   5 ...   1   1   0]\n",
      " [  0   3 740 ...   0   0   0]\n",
      " ...\n",
      " [  0   2   0 ...  85   0   0]\n",
      " [  0   0   0 ...   0  33   0]\n",
      " [  0   0   0 ...   0  17  66]]\n",
      "0.9501979414093429\n"
     ]
    }
   ],
   "source": [
    "test_model() #Testing the model on Testing dataset"
   ]
  }
 ],
 "metadata": {
  "kernelspec": {
   "display_name": "Python 3",
   "language": "python",
   "name": "python3"
  },
  "language_info": {
   "codemirror_mode": {
    "name": "ipython",
    "version": 3
   },
   "file_extension": ".py",
   "mimetype": "text/x-python",
   "name": "python",
   "nbconvert_exporter": "python",
   "pygments_lexer": "ipython3",
   "version": "3.8.8"
  }
 },
 "nbformat": 4,
 "nbformat_minor": 5
}
